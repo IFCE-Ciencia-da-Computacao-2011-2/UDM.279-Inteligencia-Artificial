{
 "cells": [
  {
   "cell_type": "code",
   "execution_count": 1,
   "metadata": {
    "collapsed": false
   },
   "outputs": [],
   "source": [
    "%matplotlib inline\n",
    "import helper\n",
    "import matplotlib.pyplot as plt\n",
    "plt.style.use('ggplot')"
   ]
  },
  {
   "cell_type": "markdown",
   "metadata": {},
   "source": [
    "# Análise de algoritmos de busca no problema *Sliding puzzle*\n",
    "\n",
    "_**Resumo:** Este relatório apresenta uma análise comparativa de tempo de algorimos de busca no problema **Sliding Puzzle**, também conhecido como quebra cabeça de oito peças. Após uma descrição na introdução de como o trabalho foi desenvolvido, serão apresentados gráficos dos resultados e, por fim, uma breve discussão dos resultados._\n",
    "\n",
    "## 1. Introdução\n",
    "\n",
    "Serão analisados algoritmos de busca no problema **Sliding Puzzle**, buscando demonstrar a importância do uso de algoritmos que utilizam heurísticas para problemas de resolução de problemas por meio de busca.\n",
    "\n",
    "### 1.1 Sliding Puzzle\n",
    "\n",
    "Também conhecido como *Quebra cabeças de 8* ou *15 peças*, o jogo consiste em mover as peças do quebra-cabeças nos sentidos horizontais/verticais para organizá-las em uma ordem lógica (de 1 a 8 da esquerda para a direita).\n",
    "\n",
    "![](https://lh4.ggpht.com/Ecfnwr4gn39lt3tU1FrK2n4kI_IZ-rJmezE3_hI5gGeeDMnioDwghAT0F5Bk95tNtQ=w300)\n",
    "\n",
    "### 1.2. Algoritmos testados\n",
    "\n",
    "Foram implementados e testados os seguintes algoritmos de busca:\n",
    "\n",
    " * Busca em largura/extensão;\n",
    " * Busca em profunidade grafo (não caminhos repetidos);\n",
    " * Busca em profundidade limitada;\n",
    " * Busca em aprofundamento interativo;\n",
    " * Busca A\\* (A star): Heurística Distância Quarteirão;\n",
    " * Busca A\\* (A star): Heurística de total de blocos em posição errada.\n",
    "\n",
    "A medida que o campo aumenta, o custo de tempo de alguns algoritmos aumenta drasticamente. Desta forma, foi escolhido retirar alguns algoritmos da análise a partir de uma configuração de tamanho $3x3$.\n",
    "\n",
    "## 2. Método de análise\n",
    "\n",
    "Os algorimos de busca foram testados $10$ (dez) vezes a partir de um estado aleatório inicial. \n",
    "\n",
    "Para cada teste, foram computados o tempo inicial e o tempo final da execução de um algoritmo de busca. O tempo utilizado foi o **tempo do processo**, de forma a evitar a adição de tempo que o processo está em _Sleep status_.\n",
    "\n",
    "> **```time.process_time()```**\n",
    "\n",
    "> Return the value (in fractional seconds) of the sum of the system and user CPU time of the current process. It does not include time elapsed during sleep. It is process-wide by definition. The reference point of the returned value is undefined, so that only the difference between the results of consecutive calls is valid.\n",
    "\n",
    "> -- <cite>[Python documentation](https://docs.python.org/3.5/library/time.html#time.process_time) - 2017</cite>\n",
    "\n",
    "O estado inicial foi definido antes da execução dos algoritmos de busca: foram realizadas 150 movimentos aleatórios a partir do estado objetivo.\n",
    "\n",
    "```python\n",
    "def shuffle(puzzle, n):\n",
    "    last_movement = SlidingMovement.FROM_BOTTOM\n",
    "    while n > 0:\n",
    "        movement = random.choice(puzzle.possible_movements)\n",
    "        # Não desfazer o movimento anterior\n",
    "        if movement == ~last_movement:\n",
    "            continue\n",
    "\n",
    "        puzzle.move(movement)\n",
    "\n",
    "        last_movement = movement\n",
    "        n -= 1\n",
    "```\n",
    "\n",
    "Para facilitar a implementação, **o estado objetivo** foi definido como a sequência $[0 .. (largura*altura - 1)]$.\n",
    "\n",
    "### 2.1 Configurações de testes\n",
    "\n",
    "As configurações de tamanho do quebra cabeça são\n",
    "\n",
    "* 2 x 2\n",
    "* 2 x 3\n",
    "* 3 x 3 - Quebra cabeças de 8 peças\n",
    "* 3 x 4\n",
    "* 4 x 4 - Quebra cabeças de 16 peças\n",
    "\n",
    "### 2.2 Ambiente de testes\n",
    "\n",
    "Foi utilizado um Notebook com as seguintes características:\n",
    "\n",
    "* **Memória RAM**: 7,7 GiB\n",
    "* **Processador**: Intel® Core™ i5-5200U CPU @ 2.20GHz × 4 \n",
    "* **Sistema Operacional**: Ubuntu 16.04 LTS - 64-bit\n",
    "\n",
    "### 2.3 Linguagem de programação\n",
    "\n",
    "O código foi implementado com a linguagem Python versão 3.5.2 - distribuição Anaconda 4.2.0 (64-bit).\n",
    "\n",
    "Para a manipulação de arrays, foi utilizada a biblioteca [NumPy](http://www.numpy.org/) \"o pacote fundamenta para computação científica em Python\" (NumPy 2017).\n",
    "\n",
    "O código pode ser encontrado no repositório oficial do projeto: https://github.com/IFCE-Ciencia-da-Computacao-2011-2/UDM.279-Inteligencia-Artificial\n",
    "\n",
    "## 3. Resultados\n",
    "\n",
    "A análise dos dados consiste basicamente a partir da média das execuções. Foi percebido que aleatoriamente algoritmos apresentaram um desvio padrão alto, ocasionado por demoras excessivas em uma única das execuções. A fim de amenizar o problema, considerou ser mais justo remover da análise a execução mais rápida e a mais lenta."
   ]
  },
  {
   "cell_type": "markdown",
   "metadata": {},
   "source": [
    "### 3.1 Tamanho:  (2, 2)\n",
    "\n",
    "* **Estado inicial**:\n",
    "```\n",
    "[[3 2]\n",
    " [1 0]]\n",
    "```\n",
    "* **Mínimo de movimentos para solucionar**: 6\n",
    "\n",
    "Nesta configuração, o melhor resultado analisando o tempo de execução foi a busca em profundidade. Apesar de este "
   ]
  },
  {
   "cell_type": "code",
   "execution_count": 8,
   "metadata": {
    "collapsed": false,
    "scrolled": false
   },
   "outputs": [
    {
     "data": {
      "text/html": [
       "<div>\n",
       "<table border=\"1\" class=\"dataframe\">\n",
       "  <thead>\n",
       "    <tr style=\"text-align: right;\">\n",
       "      <th></th>\n",
       "      <th>A* - Distância quarteirão</th>\n",
       "      <th>Profundidade (grafo)</th>\n",
       "      <th>Profundidade limitada - 15</th>\n",
       "      <th>Largura</th>\n",
       "      <th>Aprofundamento Interativo</th>\n",
       "      <th>A* - Nº errados</th>\n",
       "    </tr>\n",
       "  </thead>\n",
       "  <tbody>\n",
       "    <tr>\n",
       "      <th>0</th>\n",
       "      <td>0.000999</td>\n",
       "      <td>0.000392</td>\n",
       "      <td>0.001781</td>\n",
       "      <td>0.000786</td>\n",
       "      <td>0.002873</td>\n",
       "      <td>0.000768</td>\n",
       "    </tr>\n",
       "    <tr>\n",
       "      <th>1</th>\n",
       "      <td>0.001007</td>\n",
       "      <td>0.000393</td>\n",
       "      <td>0.001785</td>\n",
       "      <td>0.000792</td>\n",
       "      <td>0.002917</td>\n",
       "      <td>0.000770</td>\n",
       "    </tr>\n",
       "    <tr>\n",
       "      <th>2</th>\n",
       "      <td>0.001021</td>\n",
       "      <td>0.000394</td>\n",
       "      <td>0.001795</td>\n",
       "      <td>0.000825</td>\n",
       "      <td>0.002923</td>\n",
       "      <td>0.000776</td>\n",
       "    </tr>\n",
       "  </tbody>\n",
       "</table>\n",
       "</div>"
      ],
      "text/plain": [
       "   A* - Distância quarteirão  Profundidade (grafo)  \\\n",
       "0                   0.000999              0.000392   \n",
       "1                   0.001007              0.000393   \n",
       "2                   0.001021              0.000394   \n",
       "\n",
       "   Profundidade limitada - 15   Largura  Aprofundamento Interativo  \\\n",
       "0                    0.001781  0.000786                   0.002873   \n",
       "1                    0.001785  0.000792                   0.002917   \n",
       "2                    0.001795  0.000825                   0.002923   \n",
       "\n",
       "   A* - Nº errados  \n",
       "0         0.000768  \n",
       "1         0.000770  \n",
       "2         0.000776  "
      ]
     },
     "execution_count": 8,
     "metadata": {},
     "output_type": "execute_result"
    }
   ],
   "source": [
    "data = helper.carregar_json('data.json')\n",
    "\n",
    "resultado_2_x_2 = helper.processar_resultados(data['(2, 2)'])\n",
    "resultado_2_x_2[0].head(3)"
   ]
  },
  {
   "cell_type": "code",
   "execution_count": 3,
   "metadata": {
    "collapsed": false
   },
   "outputs": [
    {
     "name": "stdout",
     "output_type": "stream",
     "text": [
      "Total de passos para a solução\n"
     ]
    },
    {
     "data": {
      "text/html": [
       "<div>\n",
       "<table border=\"1\" class=\"dataframe\">\n",
       "  <thead>\n",
       "    <tr style=\"text-align: right;\">\n",
       "      <th></th>\n",
       "      <th>A* - Distância quarteirão</th>\n",
       "      <th>Profundidade (grafo)</th>\n",
       "      <th>Profundidade limitada - 15</th>\n",
       "      <th>Largura</th>\n",
       "      <th>Aprofundamento Interativo</th>\n",
       "      <th>A* - Nº errados</th>\n",
       "    </tr>\n",
       "  </thead>\n",
       "  <tbody>\n",
       "    <tr>\n",
       "      <th>0</th>\n",
       "      <td>6</td>\n",
       "      <td>6</td>\n",
       "      <td>14</td>\n",
       "      <td>6</td>\n",
       "      <td>6</td>\n",
       "      <td>6</td>\n",
       "    </tr>\n",
       "  </tbody>\n",
       "</table>\n",
       "</div>"
      ],
      "text/plain": [
       "   A* - Distância quarteirão  Profundidade (grafo)  \\\n",
       "0                          6                     6   \n",
       "\n",
       "   Profundidade limitada - 15  Largura  Aprofundamento Interativo  \\\n",
       "0                          14        6                          6   \n",
       "\n",
       "   A* - Nº errados  \n",
       "0                6  "
      ]
     },
     "execution_count": 3,
     "metadata": {},
     "output_type": "execute_result"
    }
   ],
   "source": [
    "print(\"Total de passos para a solução\")\n",
    "resultado_2_x_2[1]"
   ]
  },
  {
   "cell_type": "code",
   "execution_count": 4,
   "metadata": {
    "collapsed": false
   },
   "outputs": [
    {
     "data": {
      "image/png": "[encoded data removed]",
      "text/plain": [
       "<matplotlib.figure.Figure at 0x7fee2176d518>"
      ]
     },
     "metadata": {},
     "output_type": "display_data"
    }
   ],
   "source": [
    "helper.grafico_desvio_padrao(resultado_2_x_2[0])"
   ]
  },
  {
   "cell_type": "markdown",
   "metadata": {},
   "source": [
    "### 3.2 Tamanho: (2, 3)\n",
    "\n",
    "* **Estado inicial**:\n",
    "```\n",
    "[[5 2]\n",
    " [4 3]\n",
    " [0 1]]\n",
    "```\n",
    "* **Mínimo de movimentos para solucionar**: 14"
   ]
  },
  {
   "cell_type": "code",
   "execution_count": 10,
   "metadata": {
    "collapsed": false
   },
   "outputs": [
    {
     "data": {
      "text/html": [
       "<div>\n",
       "<table border=\"1\" class=\"dataframe\">\n",
       "  <thead>\n",
       "    <tr style=\"text-align: right;\">\n",
       "      <th></th>\n",
       "      <th>A* - Distância quarteirão</th>\n",
       "      <th>Profundidade (grafo)</th>\n",
       "      <th>Profundidade limitada - 15</th>\n",
       "      <th>Largura</th>\n",
       "      <th>Aprofundamento Interativo</th>\n",
       "      <th>A* - Nº errados</th>\n",
       "    </tr>\n",
       "  </thead>\n",
       "  <tbody>\n",
       "    <tr>\n",
       "      <th>0</th>\n",
       "      <td>0.008430</td>\n",
       "      <td>0.153690</td>\n",
       "      <td>6.108250</td>\n",
       "      <td>0.167027</td>\n",
       "      <td>6.572430</td>\n",
       "      <td>0.008007</td>\n",
       "    </tr>\n",
       "    <tr>\n",
       "      <th>1</th>\n",
       "      <td>0.008441</td>\n",
       "      <td>0.153939</td>\n",
       "      <td>6.136186</td>\n",
       "      <td>0.167370</td>\n",
       "      <td>6.595261</td>\n",
       "      <td>0.008053</td>\n",
       "    </tr>\n",
       "    <tr>\n",
       "      <th>2</th>\n",
       "      <td>0.008868</td>\n",
       "      <td>0.155745</td>\n",
       "      <td>6.159544</td>\n",
       "      <td>0.168769</td>\n",
       "      <td>6.657200</td>\n",
       "      <td>0.008742</td>\n",
       "    </tr>\n",
       "  </tbody>\n",
       "</table>\n",
       "</div>"
      ],
      "text/plain": [
       "   A* - Distância quarteirão  Profundidade (grafo)  \\\n",
       "0                   0.008430              0.153690   \n",
       "1                   0.008441              0.153939   \n",
       "2                   0.008868              0.155745   \n",
       "\n",
       "   Profundidade limitada - 15   Largura  Aprofundamento Interativo  \\\n",
       "0                    6.108250  0.167027                   6.572430   \n",
       "1                    6.136186  0.167370                   6.595261   \n",
       "2                    6.159544  0.168769                   6.657200   \n",
       "\n",
       "   A* - Nº errados  \n",
       "0         0.008007  \n",
       "1         0.008053  \n",
       "2         0.008742  "
      ]
     },
     "execution_count": 10,
     "metadata": {},
     "output_type": "execute_result"
    }
   ],
   "source": [
    "resultado_2_x_3 = helper.processar_resultados(data['(2, 3)'])\n",
    "resultado_2_x_3[0].head(3)"
   ]
  },
  {
   "cell_type": "code",
   "execution_count": 9,
   "metadata": {
    "collapsed": false
   },
   "outputs": [
    {
     "name": "stdout",
     "output_type": "stream",
     "text": [
      "Total de passos para a solução\n"
     ]
    },
    {
     "data": {
      "text/html": [
       "<div>\n",
       "<table border=\"1\" class=\"dataframe\">\n",
       "  <thead>\n",
       "    <tr style=\"text-align: right;\">\n",
       "      <th></th>\n",
       "      <th>A* - Distância quarteirão</th>\n",
       "      <th>Profundidade (grafo)</th>\n",
       "      <th>Profundidade limitada - 15</th>\n",
       "      <th>Largura</th>\n",
       "      <th>Aprofundamento Interativo</th>\n",
       "      <th>A* - Nº errados</th>\n",
       "    </tr>\n",
       "  </thead>\n",
       "  <tbody>\n",
       "    <tr>\n",
       "      <th>0</th>\n",
       "      <td>14</td>\n",
       "      <td>118</td>\n",
       "      <td>14</td>\n",
       "      <td>14</td>\n",
       "      <td>14</td>\n",
       "      <td>14</td>\n",
       "    </tr>\n",
       "  </tbody>\n",
       "</table>\n",
       "</div>"
      ],
      "text/plain": [
       "   A* - Distância quarteirão  Profundidade (grafo)  \\\n",
       "0                         14                   118   \n",
       "\n",
       "   Profundidade limitada - 15  Largura  Aprofundamento Interativo  \\\n",
       "0                          14       14                         14   \n",
       "\n",
       "   A* - Nº errados  \n",
       "0               14  "
      ]
     },
     "execution_count": 9,
     "metadata": {},
     "output_type": "execute_result"
    }
   ],
   "source": [
    "print(\"Total de passos para a solução\")\n",
    "resultado_2_x_3[1]"
   ]
  },
  {
   "cell_type": "code",
   "execution_count": 7,
   "metadata": {
    "collapsed": false
   },
   "outputs": [
    {
     "data": {
      "image/png": "[encoded data removed]",
      "text/plain": [
       "<matplotlib.figure.Figure at 0x7fedf7206198>"
      ]
     },
     "metadata": {},
     "output_type": "display_data"
    }
   ],
   "source": [
    "helper.grafico_desvio_padrao(resultado_2_x_3[0])"
   ]
  }
 ],
 "metadata": {
  "anaconda-cloud": {},
  "kernelspec": {
   "display_name": "Python [conda root]",
   "language": "python",
   "name": "conda-root-py"
  },
  "language_info": {
   "codemirror_mode": {
    "name": "ipython",
    "version": 3
   },
   "file_extension": ".py",
   "mimetype": "text/x-python",
   "name": "python",
   "nbconvert_exporter": "python",
   "pygments_lexer": "ipython3",
   "version": "3.5.2"
  }
 },
 "nbformat": 4,
 "nbformat_minor": 2
}
